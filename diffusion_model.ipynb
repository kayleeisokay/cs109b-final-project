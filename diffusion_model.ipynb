{
 "cells": [
  {
   "cell_type": "markdown",
   "id": "24d2a191",
   "metadata": {},
   "source": [
    "## Diffusion Model using U-Net"
   ]
  },
  {
   "cell_type": "markdown",
   "id": "70e333f9",
   "metadata": {},
   "source": [
    "This is an appendix notebook that is optional to the reader. It contains code for training a diffusion model using a U-Net architecture. The idea was to train on the `disgust` category to upsample for our models but it ultimately failed. However, we learned a lot about diffusion models and Kaylee finally found her spark after a decade of searching."
   ]
  },
  {
   "cell_type": "markdown",
   "id": "bd835f07",
   "metadata": {},
   "source": [
    "*Citing our sources, parts of this notebook was AI assisted via DeepSeek. The functions marked with \"AI\" were AI assisted.*"
   ]
  },
  {
   "cell_type": "code",
   "execution_count": 8,
   "id": "fbe18bf5",
   "metadata": {},
   "outputs": [],
   "source": [
    "import torch\n",
    "import torch.nn as nn\n",
    "import torch.nn.functional as F\n",
    "import pytorch_lightning as pl\n",
    "\n",
    "from torch.utils.data import DataLoader\n",
    "from torchvision import transforms, datasets"
   ]
  },
  {
   "cell_type": "code",
   "execution_count": null,
   "id": "3e2b4720",
   "metadata": {},
   "outputs": [],
   "source": [
    "# Determinisitc, relative embeddings\n",
    "class SinusoidalTimeEmbedding(nn.Module):\n",
    "    def __init__(self, dim):\n",
    "        super().__init__()\n",
    "        self.dim = dim\n",
    "\n",
    "    def forward(self, t):\n",
    "        device = t.device\n",
    "        half_dim = self.dim // 2\n",
    "        emb = torch.log(torch.tensor(10000.0)) / (half_dim - 1)\n",
    "        # had to use device because it was giving errors\n",
    "        emb = torch.exp(torch.arange(half_dim, device=device) * -emb)\n",
    "        emb = t[:, None] * emb[None, :]\n",
    "        emb = torch.cat([torch.sin(emb), torch.cos(emb)], dim=-1)\n",
    "        return emb"
   ]
  },
  {
   "cell_type": "markdown",
   "id": "cb1f7237",
   "metadata": {},
   "source": [
    "The positional embeddings, just like in the transformer paper (Vaswani et al., 2017) are defined as follows:\n",
    "\n",
    "$$\n",
    "PE_{pos}(t) = \\begin{cases}\n",
    "\\sin(\\frac{t}{10000^{\\frac{2i}{d}}}) & \\text{if } i \\text{ is even} \\\\\n",
    "\n",
    "\\cos(\\frac{t}{10000^{\\frac{2i-1}{d}}}) & \\text{if } i \\text{ is odd}\n",
    "\\end{cases}\n",
    "$$\n",
    "\n",
    "The pytorch code looks slightly different but it is equivalent. We use a similar approach to (Kubo, 2024) as a more efficient way to compute the positional embeddings. These embeddings are non-trainable and represent relative positions in a time sequence. This is in contrast to vision transformers, which have learnable positional embeddings. \n",
    "\n",
    "Positional embeddings are used to encode the time step information into the model. These embeddings are fed into the residual blocks of the U-Net as a additional feature map. This is akin to conditional generative adversarial networks (cGANs) where the condition is added as an additional feature map.\n",
    "\n",
    "Next, we create a class for the attention block The attention block is the standard attention block we have all seen before. The only difference is that we use a linear layer instead of a convolutional layer to compute the query, key and value matrices. The attention block allows the model to focus on different parts of the input image."
   ]
  },
  {
   "cell_type": "code",
   "execution_count": null,
   "id": "999735cd",
   "metadata": {},
   "outputs": [],
   "source": [
    "# Very similar to HW5 attention block\n",
    "class AttentionBlock(nn.Module):\n",
    "    def __init__(self, channels):\n",
    "        super().__init__()\n",
    "        self.query = nn.Conv2d(channels, channels // 8, 1)\n",
    "        self.key = nn.Conv2d(channels, channels // 8, 1)\n",
    "        self.value = nn.Conv2d(channels, channels, 1)\n",
    "\n",
    "        self.softmax = nn.Softmax(dim=-1)\n",
    "\n",
    "    def forward(self, x):\n",
    "        # batch, channels, height, width\n",
    "        B, C, H, W = x.shape\n",
    "\n",
    "        # Q, K, V projections\n",
    "        query = self.query(x).view(B, -1, H * W)\n",
    "        key = self.key(x).view(B, -1, H * W)\n",
    "        value = self.value(x).view(B, -1, H * W)\n",
    "\n",
    "        attention_map = torch.matmul(query.transpose(1, 2), key)\n",
    "        attention_map = self.softmax(attention_map)\n",
    "        out = torch.matmul(attention_map, value.transpose(1, 2))\n",
    "\n",
    "        out = out.transpose(1, 2).view(B, C, H, W)\n",
    "\n",
    "        return out"
   ]
  },
  {
   "cell_type": "markdown",
   "id": "eeb2833f",
   "metadata": {},
   "source": [
    "For the next class, we create a residual block. A lot of the code was taken from a medium post (Dz, 2023). The architecture as defined in the init contains two convolutional layers, a group normalization, attention block and a skip connection. Group norm is essentially identical to batch norm but it is batch size agnostic. For all intents and purposes, one can view it as a bathch norm layer. \n",
    "\n",
    "In the forward pass, we apply convolution, project the time embedding and add it as an additional feature map. We then apply convolution again and pass the result through an attention block. The final step is a skip connection."
   ]
  },
  {
   "cell_type": "code",
   "execution_count": null,
   "id": "03d20482",
   "metadata": {},
   "outputs": [],
   "source": [
    "# Residual Block with Time Embedding and Attention\n",
    "class ResBlock(nn.Module):\n",
    "    def __init__(self, in_channels, out_channels, time_emb_dim):\n",
    "        super().__init__()\n",
    "        self.conv1 = nn.Conv2d(in_channels, out_channels, 3, padding=1)\n",
    "        self.norm1 = nn.GroupNorm(8, out_channels)\n",
    "        self.act1 = nn.SiLU()\n",
    "\n",
    "        self.conv2 = nn.Conv2d(out_channels, out_channels, 3, padding=1)\n",
    "        self.norm2 = nn.GroupNorm(8, out_channels)\n",
    "        self.act2 = nn.SiLU()\n",
    "\n",
    "        # Inject the time embedding into the block\n",
    "        self.time_mlp = nn.Linear(time_emb_dim, out_channels)\n",
    "        self.attn = AttentionBlock(out_channels)\n",
    "        self.res_conv = (\n",
    "            nn.Conv2d(in_channels, out_channels, 1)\n",
    "            if in_channels != out_channels\n",
    "            else nn.Identity()\n",
    "        )\n",
    "\n",
    "    def forward(self, x, t_emb):\n",
    "        h = self.act1(self.norm1(self.conv1(x)))\n",
    "        # Add the time embedding as another feature map\n",
    "        h = h + self.time_mlp(t_emb).view(t_emb.size(0), -1, 1, 1)\n",
    "        h = self.act2(self.norm2(self.conv2(h)))\n",
    "        h = self.attn(h)\n",
    "        # Add the residual connection\n",
    "        return h + self.res_conv(x)"
   ]
  },
  {
   "cell_type": "markdown",
   "id": "27af6de9",
   "metadata": {},
   "source": [
    "The class below is just a U-Net. There's not much to add here since we used U-Net extensively in the main project. It's the standard encoder, bottleneck, decoder architecture with long skip connections. We alo use residual blocks with attention instead of vanilla convolution blocks. "
   ]
  },
  {
   "cell_type": "code",
   "execution_count": null,
   "id": "1e40b3c6",
   "metadata": {},
   "outputs": [],
   "source": [
    "# U-Net Architecture\n",
    "class SimpleUNet(nn.Module):\n",
    "    def __init__(self):\n",
    "        super().__init__()\n",
    "        time_emb_dim = 256\n",
    "        self.time_embedding = SinusoidalTimeEmbedding(time_emb_dim)\n",
    "        self.time_mlp = nn.Sequential(\n",
    "            nn.Linear(time_emb_dim, time_emb_dim),\n",
    "            nn.SiLU(),\n",
    "            nn.Linear(time_emb_dim, time_emb_dim),\n",
    "        )\n",
    "        ## Define the architecture\n",
    "        # Encoder\n",
    "        self.enc1 = ResBlock(1, 64, time_emb_dim)\n",
    "        self.pool1 = nn.MaxPool2d(2)\n",
    "\n",
    "        self.enc2 = ResBlock(64, 128, time_emb_dim)\n",
    "        self.pool2 = nn.MaxPool2d(2)\n",
    "\n",
    "        # Bottleneck\n",
    "        self.bottleneck = ResBlock(128, 256, time_emb_dim)\n",
    "\n",
    "        # Decoder\n",
    "        self.up1 = nn.ConvTranspose2d(256, 128, 2, stride=2)\n",
    "        self.dec1 = ResBlock(256, 128, time_emb_dim)\n",
    "\n",
    "        self.up2 = nn.ConvTranspose2d(128, 64, 2, stride=2)\n",
    "        self.dec2 = ResBlock(128, 64, time_emb_dim)\n",
    "\n",
    "        self.out = nn.Conv2d(64, 1, kernel_size=1)\n",
    "\n",
    "    ## Define the forward pass\n",
    "    def forward(self, x, t):\n",
    "        t_emb = self.time_embedding(t)\n",
    "        t_emb = self.time_mlp(t_emb)\n",
    "\n",
    "        # Encoder\n",
    "        e1 = self.enc1(x, t_emb)\n",
    "        p1 = self.pool1(e1)\n",
    "\n",
    "        e2 = self.enc2(p1, t_emb)\n",
    "        p2 = self.pool2(e2)\n",
    "\n",
    "        # Bottleneck\n",
    "        b = self.bottleneck(p2, t_emb)\n",
    "\n",
    "        # Decoder\n",
    "        up1 = self.up1(b)\n",
    "        d1 = self.dec1(torch.cat([up1, e2], dim=1), t_emb)\n",
    "\n",
    "        up2 = self.up2(d1)\n",
    "        d2 = self.dec2(torch.cat([up2, e1], dim=1), t_emb)\n",
    "\n",
    "        return self.out(d2)"
   ]
  },
  {
   "cell_type": "markdown",
   "id": "e9effebd",
   "metadata": {},
   "source": [
    "The model has been defined. Now we move on the interesting part, the training loop. First we define the forward process. The forward process is a Markov chain that progressively adds noise to the data. The noise is drawn from a multivariate standard normal. We define the forward process as\n",
    "\n",
    "$$\n",
    "\\begin{equation}\n",
    "q(x_t | x_{t-1}) = \\mathcal{N}(\\mu_t = \\sqrt{1 - \\beta_t} x_{t-1}, \\sigma_t^2 = \\beta_t I).\n",
    "\\end{equation}\n",
    "$$\n",
    "\n",
    "The variance schedule is defined as $\\beta_t$. In the class below, we use a linear schedule. Cosine schedules have been shown to be better but we stick to linear for simplicity (Nichol & Dhariwal, 2021). The variable $x_t$ is the image at time $t$ and by the Markov assumption, the image at time $t$ only depends on the image at time $t-1$. Like shown in lecture, we reparameterize the forward process using the following equations:\n",
    "\n",
    "$$\n",
    "\\alpha_t = 1 - \\beta_t,\n",
    "$$\n",
    "$$\n",
    "\\bar{\\alpha}_t = \\prod_{s=1}^t \\alpha_s.\n",
    "$$\n",
    "\n",
    "Equation 1 now becomes\n",
    "\n",
    "$$\n",
    "q(x_t | x_0) = \\mathcal{N}(\\mu_t = \\sqrt{\\bar{\\alpha}_t} x_0, \\sigma_t^2 = (1 - \\bar{\\alpha}_t) I).\n",
    "$$\n",
    "\n",
    "All variables have been defined. The class below implements the forward process.\n"
   ]
  },
  {
   "cell_type": "code",
   "execution_count": null,
   "id": "81155194",
   "metadata": {},
   "outputs": [],
   "source": [
    "# Forward process of the diffusion model\n",
    "class Diffusion:\n",
    "    def __init__(self, timesteps=1000, beta_start=1e-4, beta_end=0.02):\n",
    "        self.timesteps = timesteps\n",
    "        self.betas = torch.linspace(beta_start, beta_end, timesteps)\n",
    "        self.alphas = 1.0 - self.betas\n",
    "        self.alphas_cumprod = torch.cumprod(self.alphas, dim=0)\n",
    "\n",
    "    def q_sample(self, x_start, t, noise=None):\n",
    "        if noise is None:\n",
    "            noise = torch.randn_like(x_start)\n",
    "\n",
    "        # need to be on same device\n",
    "        # was getting same bug as before\n",
    "        device = x_start.device\n",
    "        alphas_cumprod = self.alphas_cumprod.to(device)\n",
    "        sqrt_alpha_cumprod = torch.sqrt(alphas_cumprod[t])[:, None, None, None]\n",
    "        sqrt_one_minus = torch.sqrt(1 - alphas_cumprod[t])[:, None, None, None]\n",
    "\n",
    "        return sqrt_alpha_cumprod * x_start + sqrt_one_minus * noise"
   ]
  },
  {
   "cell_type": "markdown",
   "id": "4291a4b3",
   "metadata": {},
   "source": [
    "\n",
    "**Author's Notes**\n",
    "\n",
    "Since the training loop was only introduced in the last lecture, we had to use DeepSeek for help. The general concept was clear but the implementation was not. The tricky part was step 4 and 5 because it was vague on what to do about 'take gradient step on $\\nabla_\\theta || \\epsilon - \\epsilon_{\\theta}(\\sqrt{\\bar{\\alpha}_t} x_0 + \\sqrt{1 - \\bar{\\alpha}_t} \\epsilon, t)||^2$'. The AI was able to clarify this and the code below is the result of that."
   ]
  },
  {
   "cell_type": "markdown",
   "id": "0654f130",
   "metadata": {},
   "source": [
    "We follow the steps outlined in the paper \"Denoising Diffusion Probabilistic Models\" (Ho et al., 2020). The steps can be found on slide 42 of the final lecture. The steps are as follows:\n",
    "\n",
    "<img src=\"./img/diffusion_train.png\" width=\"650\" height=\"325\">"
   ]
  },
  {
   "cell_type": "code",
   "execution_count": null,
   "id": "cf86cabe",
   "metadata": {},
   "outputs": [],
   "source": [
    "# AI-assisted\n",
    "class DiffusionModel(pl.LightningModule):\n",
    "    def __init__(self):\n",
    "        super().__init__()\n",
    "\n",
    "        # Denoising model, model to predict the noise\n",
    "        self.model = SimpleUNet()\n",
    "\n",
    "        # Foward process\n",
    "        self.diffusion = Diffusion()\n",
    "\n",
    "    def forward(self, x, t):\n",
    "        # Inputs are x and time step t\n",
    "        return self.model(x, t)\n",
    "\n",
    "    def training_step(self, batch, batch_idx):\n",
    "\n",
    "        # Step 1: sample images\n",
    "        x, _ = batch\n",
    "\n",
    "        # Step 2: Sample time step from a uniform distribution\n",
    "        t = torch.randint(\n",
    "            0, self.diffusion.timesteps, (x.size(0),), device=self.device\n",
    "        ).long()\n",
    "\n",
    "        # Step 3: Sample noise\n",
    "        noise = torch.randn_like(x, device=self.device)\n",
    "\n",
    "        # Step 4: Generates noisy images\n",
    "        x_noisy = self.diffusion.q_sample(x, t, noise)\n",
    "\n",
    "        # Step 5: Predict the noise\n",
    "        noise_pred = self(x_noisy, t)\n",
    "\n",
    "        # Compute the MSE\n",
    "        loss = F.mse_loss(noise_pred, noise)\n",
    "        self.log(\"train_loss\", loss)\n",
    "        return loss\n",
    "\n",
    "    def configure_optimizers(self):\n",
    "        optimizer = torch.optim.Adam(self.model.parameters(), lr=1e-4)\n",
    "        return optimizer"
   ]
  },
  {
   "cell_type": "code",
   "execution_count": null,
   "id": "057c2d0b",
   "metadata": {},
   "outputs": [],
   "source": [
    "# 4. Prepare the DataLoader for FER-2013 Dataset\n",
    "transform = transforms.Compose(\n",
    "    [\n",
    "        transforms.Grayscale(),  # in case it's not grayscale\n",
    "        transforms.Resize((48, 48)),\n",
    "        transforms.ToTensor(),\n",
    "        transforms.Normalize([0.5], [0.5]),  # Normalize to [-1, 1]\n",
    "    ]\n",
    ")"
   ]
  },
  {
   "cell_type": "code",
   "execution_count": null,
   "id": "71812282",
   "metadata": {},
   "outputs": [
    {
     "name": "stderr",
     "output_type": "stream",
     "text": [
      "Using default `ModelCheckpoint`. Consider installing `litmodels` package to enable `LitModelCheckpoint` for automatic upload to the Lightning model registry.\n",
      "GPU available: True (cuda), used: True\n",
      "TPU available: False, using: 0 TPU cores\n",
      "HPU available: False, using: 0 HPUs\n",
      "You are using a CUDA device ('NVIDIA GeForce RTX 4090') that has Tensor Cores. To properly utilize them, you should set `torch.set_float32_matmul_precision('medium' | 'high')` which will trade-off precision for performance. For more details, read https://pytorch.org/docs/stable/generated/torch.set_float32_matmul_precision.html#torch.set_float32_matmul_precision\n",
      "2025-05-07 20:44:28.425586: E external/local_xla/xla/stream_executor/cuda/cuda_dnn.cc:9261] Unable to register cuDNN factory: Attempting to register factory for plugin cuDNN when one has already been registered\n",
      "2025-05-07 20:44:28.425632: E external/local_xla/xla/stream_executor/cuda/cuda_fft.cc:607] Unable to register cuFFT factory: Attempting to register factory for plugin cuFFT when one has already been registered\n",
      "2025-05-07 20:44:28.426940: E external/local_xla/xla/stream_executor/cuda/cuda_blas.cc:1515] Unable to register cuBLAS factory: Attempting to register factory for plugin cuBLAS when one has already been registered\n",
      "2025-05-07 20:44:28.434009: I tensorflow/core/platform/cpu_feature_guard.cc:182] This TensorFlow binary is optimized to use available CPU instructions in performance-critical operations.\n",
      "To enable the following instructions: AVX2 FMA, in other operations, rebuild TensorFlow with the appropriate compiler flags.\n",
      "2025-05-07 20:44:29.224383: W tensorflow/compiler/tf2tensorrt/utils/py_utils.cc:38] TF-TRT Warning: Could not find TensorRT\n",
      "LOCAL_RANK: 0 - CUDA_VISIBLE_DEVICES: [0]\n",
      "\n",
      "  | Name  | Type       | Params | Mode \n",
      "---------------------------------------------\n",
      "0 | model | SimpleUNet | 2.4 M  | train\n",
      "---------------------------------------------\n",
      "2.4 M     Trainable params\n",
      "0         Non-trainable params\n",
      "2.4 M     Total params\n",
      "9.507     Total estimated model params size (MB)\n",
      "81        Modules in train mode\n",
      "0         Modules in eval mode\n",
      "/usr/local/lib/python3.10/dist-packages/pytorch_lightning/trainer/connectors/data_connector.py:425: The 'train_dataloader' does not have many workers which may be a bottleneck. Consider increasing the value of the `num_workers` argument` to `num_workers=63` in the `DataLoader` to improve performance.\n",
      "/usr/local/lib/python3.10/dist-packages/pytorch_lightning/loops/fit_loop.py:310: The number of training batches (6) is smaller than the logging interval Trainer(log_every_n_steps=50). Set a lower value for log_every_n_steps if you want to see logs for the training epoch.\n"
     ]
    },
    {
     "data": {
      "application/vnd.jupyter.widget-view+json": {
       "model_id": "3f12f76894b54470aad6a01a9ea10cb2",
       "version_major": 2,
       "version_minor": 0
      },
      "text/plain": [
       "Training: |          | 0/? [00:00<?, ?it/s]"
      ]
     },
     "metadata": {},
     "output_type": "display_data"
    },
    {
     "name": "stderr",
     "output_type": "stream",
     "text": [
      "`Trainer.fit` stopped: `max_epochs=1000` reached.\n"
     ]
    }
   ],
   "source": [
    "# Update the path to the FER-2013 dataset on your system\n",
    "train_dataset = datasets.ImageFolder(\n",
    "    \"./data/clean_train_diffusion\", transform=transform\n",
    ")\n",
    "train_loader = DataLoader(train_dataset, batch_size=64, shuffle=True)\n",
    "\n",
    "model = DiffusionModel()\n",
    "trainer = pl.Trainer(max_epochs=1000, accelerator=\"auto\")\n",
    "trainer.fit(model, train_loader)"
   ]
  },
  {
   "cell_type": "markdown",
   "id": "fbc579b1",
   "metadata": {},
   "source": [
    "**Author's Notes**\n",
    "\n",
    "Sampling was trickiest because we barely covered it in the lecture. We knew the general idea is to feed in a noise vector and then iteratively denoise it but how to do so was not clear. The breakthrough occurred when we realized the process can be viewed as solving a stochastic differential equation (SDE), specifically a variance preserving SDE. Framing it this way made it clear why we have a $\\sigma_t$ term and what the denoising equation is doing."
   ]
  },
  {
   "cell_type": "markdown",
   "id": "fdad12ba",
   "metadata": {},
   "source": [
    "Sampling is where we take a noise vector and iteratively denoise it. We do so by using a special equation\n",
    "\n",
    "$$\n",
    "x_{t-1} = \\frac{1}{\\sqrt{\\alpha_t}}(x_t - \\frac{\\beta_t}{\\sqrt{1 - \\bar{\\alpha}_t}} \\epsilon_\\theta(x_t, t)) + \\sigma_t z.\n",
    "$$\n",
    "\n",
    "The equation takes as input the noise vector $x_t$, time step $t$ and the model prediction $\\epsilon_\\theta(x_t, t)$. The $\\sigma_t$ term is added to introduce noise because the forward process is stochastic and therefore the reverse process must also be stochastic. It ensures mathematical consistency for the stochastic differential equation (SDE) we are solving.\n",
    "\n",
    "\n",
    "<img src=\"./img/diffusion_sample.png\" width=\"650\" height=\"325\">"
   ]
  },
  {
   "cell_type": "code",
   "execution_count": null,
   "id": "01b66696",
   "metadata": {},
   "outputs": [],
   "source": [
    "# AI-assisted\n",
    "@torch.no_grad()\n",
    "def generate_image(\n",
    "    model,\n",
    "    diffusion,\n",
    "    image_size=(1, 48, 48),\n",
    "    device=\"cuda\" if torch.cuda.is_available() else \"cpu\",\n",
    "):\n",
    "    model.eval()\n",
    "    model.to(device)\n",
    "\n",
    "    # Step 1: Sample random noise\n",
    "    img = torch.randn(1, *image_size, device=device)\n",
    "\n",
    "    for t in reversed(range(diffusion.timesteps)):\n",
    "        t_tensor = torch.full((1,), t, device=device, dtype=torch.long)\n",
    "\n",
    "        # Predict the noise\n",
    "        noise_pred = model(img, t_tensor)\n",
    "\n",
    "        # Get alpha parameters\n",
    "        alpha_t = diffusion.alphas[t].to(device)\n",
    "        alpha_cumprod_t = diffusion.alphas_cumprod[t].to(device)\n",
    "        beta_t = diffusion.betas[t].to(device)\n",
    "\n",
    "        # Step 4: Apply the noise reversing formula\n",
    "        coef1 = 1 / torch.sqrt(alpha_t)\n",
    "        coef2 = beta_t / torch.sqrt(1 - alpha_cumprod_t)\n",
    "        img = coef1 * (img - coef2 * noise_pred)\n",
    "\n",
    "        # Step 3\n",
    "        # Add noise except for last step\n",
    "        # we want final image to be clean\n",
    "        if t > 0:\n",
    "            noise = torch.randn_like(img)\n",
    "            sigma_t = torch.sqrt(beta_t)\n",
    "            img += sigma_t * noise\n",
    "\n",
    "    img = torch.clamp(img, -1.0, 1.0)\n",
    "    img = (img + 1) / 2\n",
    "    return img"
   ]
  },
  {
   "cell_type": "code",
   "execution_count": 18,
   "id": "ad2d6d9d",
   "metadata": {},
   "outputs": [
    {
     "data": {
      "image/png": "[encoded data removed]",
      "text/plain": [
       "<Figure size 640x480 with 1 Axes>"
      ]
     },
     "metadata": {},
     "output_type": "display_data"
    }
   ],
   "source": [
    "# Generate an image\n",
    "generated_image = generate_image(model, model.diffusion)\n",
    "\n",
    "# Convert to numpy\n",
    "img_np = generated_image.squeeze().cpu().numpy()\n",
    "\n",
    "# Plot\n",
    "import matplotlib.pyplot as plt\n",
    "\n",
    "plt.imshow(img_np, cmap=\"gray\")\n",
    "plt.axis(\"off\")\n",
    "plt.title(\"Generated Image\")\n",
    "plt.show()"
   ]
  },
  {
   "cell_type": "markdown",
   "id": "77e57c8f",
   "metadata": {},
   "source": [
    "The results are subpar. Generating human faces with specific emotions is a very difficult task that most likely cannot be solved with this approach. The image above looks like noise but we can discern a few characteristics of a face. We can see the model is learning the shape of the face and the background. We can see evidence of eyes and a nose."
   ]
  },
  {
   "cell_type": "markdown",
   "id": "84a28640",
   "metadata": {},
   "source": [
    "## Sources"
   ]
  },
  {
   "cell_type": "markdown",
   "id": "386a2719",
   "metadata": {},
   "source": [
    "Dz. (2023, September 17). Intro to Diffusion Model — Part 5 - DZ - Medium. Medium. https://dzdata.medium.com/intro-to-diffusion-model-part-5-d0af8331871\n",
    "\n",
    "Ho, J., Jain, A., & Abbeel, P. (2020). Denoising diffusion probabilistic models. arXiv (Cornell University). https://doi.org/10.48550/arxiv.2006.11239\n",
    "\n",
    "Kubo, H. (2024, December 28). Understanding Transformer sinusoidal Position embedding. Medium. https://medium.com/%40hirok4/understanding-transformer-sinusoidal-position-embedding-7cbaaf3b9f6a\n",
    "\n",
    "Nichol, A., & Dhariwal, P. (2021, February 18). Improved denoising diffusion probabilistic models. arXiv.org. https://arxiv.org/abs/2102.09672\n",
    "\n",
    "Vaswani, A., Shazeer, N., Parmar, N., Uszkoreit, J., Jones, L., Gomez, A. N., Kaiser, L., & Polosukhin, I. (2017, June 12). Attention is all you need. arXiv.org. https://arxiv.org/abs/1706.03762"
   ]
  }
 ],
 "metadata": {
  "kernelspec": {
   "display_name": "Python 3 (ipykernel)",
   "language": "python",
   "name": "python3"
  },
  "language_info": {
   "codemirror_mode": {
    "name": "ipython",
    "version": 3
   },
   "file_extension": ".py",
   "mimetype": "text/x-python",
   "name": "python",
   "nbconvert_exporter": "python",
   "pygments_lexer": "ipython3",
   "version": "3.10.12"
  }
 },
 "nbformat": 4,
 "nbformat_minor": 5
}
