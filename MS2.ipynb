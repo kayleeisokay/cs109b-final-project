{
 "cells": [
  {
   "cell_type": "markdown",
   "metadata": {},
   "source": [
    "<h1 style=\"text-align: center;\"> Classification of Human Facial Expressions </h1>\n",
    "\n",
    "<div style=\"display: flex; justify-content: space-around;\">\n",
    "\n",
    "<div style=\"width: 30%; text-align: center;\">\n",
    "<strong>Santiago Becerra Cordoba</strong>  \n",
    "<br>\n",
    "sab1475@g.harvard.edu\n",
    "</div>\n",
    "\n",
    "<div style=\"width: 30%; text-align: center;\">\n",
    "<strong>Sarah Kim</strong>  \n",
    "<br>\n",
    "gak604@g.harvard.edu\n",
    "</div>\n"
   ]
  },
  {
   "cell_type": "markdown",
   "metadata": {},
   "source": [
    "<div style=\"display: flex; justify-content: space-around;\">\n",
    "\n",
    "<div style=\"width: 30%; text-align: center;\">\n",
    "<strong>Chloe Seo</strong>  \n",
    "<br>\n",
    "yes593@g.harvard.edu\n",
    "</div>\n",
    "\n",
    "<div style=\"width: 30%; text-align: center;\">\n",
    "<strong>Kaylee Vo</strong>  \n",
    "<br>\n",
    "kav418@g.harvard.edu\n",
    "</div>"
   ]
  },
  {
   "cell_type": "markdown",
   "metadata": {},
   "source": [
    "<div style=\"display: flex; justify-content: space-around;\">\n",
    "\n",
    "<div style=\"width: 30%; text-align: center;\">\n",
    "<strong>Jie Zhao</strong>  \n",
    "<br>\n",
    "jiz273@g.harvard.edu\n",
    "</div>\n",
    "\n",
    "<div style=\"width: 30%; text-align: center;\">\n",
    "<strong></strong>  \n",
    "<br>\n",
    "</div>"
   ]
  },
  {
   "cell_type": "markdown",
   "metadata": {},
   "source": [
    "<h5 style=\"text-align: center;\"> ALM Data Science, Harvard University </h5>"
   ]
  },
  {
   "cell_type": "markdown",
   "metadata": {},
   "source": [
    "<div style=\"text-align: center; width: 80%; margin: 0 auto;\">\n",
    "    <strong>Abstract</strong><br>\n",
    "    PLACEHOLDER\n",
    "</div>"
   ]
  },
  {
   "cell_type": "markdown",
   "metadata": {},
   "source": [
    "## Table of Contents\n",
    "\n",
    "1. [Introduction](#Introduction)\n",
    "    - [a. Access](#Access)\n",
    "    - [b. Load](#Load)\n",
    "    - [c. Understand](#Understand)\n",
    "\n",
    "2. [Preprocess](#Preprocess)\n",
    "    - [a. Missing Data](#Missing-Data)\n",
    "    - [b. Data Imbalance](#Data-Imbalance)\n",
    "    - [c. Feature Scaling](#Feature-Scaling)\n"
   ]
  },
  {
   "cell_type": "markdown",
   "metadata": {},
   "source": [
    "## Introduction\n",
    "\n",
    "In this project, we aim to classify human facial expressions using a dataset of images. The data we will use is the FER-2013 dataset, which contains 35,887 grayscale images of size 48x48 pixels. Each image is labeled with one of seven emotions: anger, disgust, fear, happiness, sadness, surprise, and neutral. "
   ]
  },
  {
   "cell_type": "markdown",
   "metadata": {},
   "source": [
    "### Access"
   ]
  },
  {
   "cell_type": "code",
   "execution_count": null,
   "metadata": {},
   "outputs": [],
   "source": [
    "import os\n",
    "import pathlib\n",
    "import time\n",
    "import zipfile\n",
    "import random\n",
    "import imageio\n",
    "from matplotlib import cm\n",
    "import matplotlib.pyplot as plt\n",
    "import numpy as np\n",
    "import pickle\n",
    "import time\n",
    "import tarfile\n",
    "import gdown\n",
    "from PIL import Image\n",
    "import requests\n",
    "import scipy.ndimage as ndimage\n",
    "import tensorflow as tf\n",
    "import tensorflow_datasets as tfds\n",
    "from tensorflow.keras.datasets import cifar10\n",
    "from tensorflow.keras.models import Sequential, Model\n",
    "from tensorflow.keras import layers\n",
    "from tensorflow.keras.layers import Activation, BatchNormalization\n",
    "from tensorflow.keras.layers import Conv2D, Dense, Dropout, GaussianNoise\n",
    "from tensorflow.keras.layers import Flatten, Input, MaxPooling2D, GlobalAveragePooling2D\n",
    "from tensorflow.keras.optimizers import Adam, SGD\n",
    "from tensorflow.keras.regularizers import L1, L2\n",
    "from tensorflow.keras.callbacks import EarlyStopping, LambdaCallback, ModelCheckpoint\n",
    "from tensorflow.keras.utils import to_categorical\n",
    "from tensorflow.keras.preprocessing.image import ImageDataGenerator\n",
    "import tqdm\n",
    "import shutil\n",
    "import platform\n",
    "import kagglehub\n",
    "\n",
    "from sklearn.preprocessing import StandardScaler  # Import"
   ]
  },
  {
   "cell_type": "code",
   "execution_count": 109,
   "metadata": {},
   "outputs": [
    {
     "name": "stdout",
     "output_type": "stream",
     "text": [
      "Downloading from https://www.kaggle.com/api/v1/datasets/download/msambare/fer2013?dataset_version_number=1...\n"
     ]
    },
    {
     "name": "stderr",
     "output_type": "stream",
     "text": [
      "100%|██████████| 60.3M/60.3M [00:05<00:00, 11.1MB/s]"
     ]
    },
    {
     "name": "stdout",
     "output_type": "stream",
     "text": [
      "Extracting files...\n"
     ]
    },
    {
     "name": "stderr",
     "output_type": "stream",
     "text": [
      "\n"
     ]
    },
    {
     "name": "stdout",
     "output_type": "stream",
     "text": [
      "Path to dataset files: /Users/kayleeyvo/.cache/kagglehub/datasets/msambare/fer2013/versions/1\n"
     ]
    }
   ],
   "source": [
    "# Download latest version\n",
    "path = kagglehub.dataset_download(\"msambare/fer2013\")\n",
    "print(\"Path to dataset files:\", path)"
   ]
  },
  {
   "cell_type": "code",
   "execution_count": 112,
   "metadata": {},
   "outputs": [],
   "source": [
    "DATA_DIR = os.getcwd() + \"/data\"\n",
    "\n",
    "# For mac users\n",
    "if platform.system() == \"Darwin\":\n",
    "    os.system('find . -name \".DS_Store\" -delete')\n",
    "\n",
    "if not os.path.exists(DATA_DIR):\n",
    "    os.makedirs(DATA_DIR)"
   ]
  },
  {
   "cell_type": "code",
   "execution_count": 113,
   "metadata": {},
   "outputs": [
    {
     "name": "stdout",
     "output_type": "stream",
     "text": [
      "Copied directory: /Users/kayleeyvo/.cache/kagglehub/datasets/msambare/fer2013/versions/1/test\n",
      "Copied directory: /Users/kayleeyvo/.cache/kagglehub/datasets/msambare/fer2013/versions/1/train\n"
     ]
    }
   ],
   "source": [
    "for item in os.listdir(path):\n",
    "    item_path = os.path.join(path, item)\n",
    "\n",
    "    if os.path.isfile(item_path):\n",
    "        shutil.copy(item_path, DATA_DIR)\n",
    "        print(f\"Copied file: {item_path}\")\n",
    "    elif os.path.isdir(item_path):\n",
    "        shutil.copytree(item_path, os.path.join(DATA_DIR, item))\n",
    "        print(f\"Copied directory: {item_path}\")"
   ]
  },
  {
   "cell_type": "markdown",
   "metadata": {},
   "source": [
    "### Load"
   ]
  },
  {
   "cell_type": "code",
   "execution_count": 114,
   "metadata": {},
   "outputs": [],
   "source": [
    "train_dir = DATA_DIR + \"/train\"\n",
    "val_dir = DATA_DIR + \"/validation\"\n",
    "val_split = 0.2\n",
    "\n",
    "if not os.path.exists(val_dir):\n",
    "    os.makedirs(val_dir, exist_ok=True)\n",
    "    for class_name in os.listdir(train_dir):\n",
    "        class_path = os.path.join(train_dir, class_name)\n",
    "        val_class_path = os.path.join(val_dir, class_name)\n",
    "        os.makedirs(val_class_path, exist_ok=True)\n",
    "\n",
    "        # List all images in the class directory\n",
    "        images = os.listdir(class_path)\n",
    "        random.shuffle(images)\n",
    "\n",
    "        # Move a portion of images to validation\n",
    "        num_val = int(len(images) * val_split)\n",
    "        for img in images[:num_val]:\n",
    "            shutil.move(\n",
    "                os.path.join(class_path, img), os.path.join(val_class_path, img)\n",
    "            )"
   ]
  },
  {
   "cell_type": "code",
   "execution_count": 115,
   "metadata": {},
   "outputs": [],
   "source": [
    "datagen = ImageDataGenerator(rescale=1.0 / 255)"
   ]
  },
  {
   "cell_type": "code",
   "execution_count": 116,
   "metadata": {},
   "outputs": [
    {
     "name": "stdout",
     "output_type": "stream",
     "text": [
      "Found 22968 images belonging to 7 classes.\n",
      "Found 5741 images belonging to 7 classes.\n",
      "Found 7178 images belonging to 7 classes.\n"
     ]
    }
   ],
   "source": [
    "batch_size = 32\n",
    "target_size = (48, 48)  # generator can resize all images if we want\n",
    "\n",
    "traingen = datagen.flow_from_directory(\n",
    "    DATA_DIR + \"/train\",  # this is the target directory\n",
    "    target_size=target_size,  # all images will be resized to 150x150\n",
    "    batch_size=batch_size,\n",
    "    class_mode=\"sparse\",  # since we use categorical_crossentropy loss, we need binary labels\n",
    "    color_mode=\"grayscale\",\n",
    ")\n",
    "valgen = datagen.flow_from_directory(\n",
    "    DATA_DIR + \"/validation\",\n",
    "    target_size=target_size,\n",
    "    batch_size=batch_size,\n",
    "    class_mode=\"sparse\",\n",
    "    color_mode=\"grayscale\",\n",
    ")\n",
    "\n",
    "testgen = datagen.flow_from_directory(\n",
    "    DATA_DIR + \"/test\",\n",
    "    target_size=target_size,\n",
    "    batch_size=batch_size,\n",
    "    shuffle=False,\n",
    "    class_mode=\"sparse\",\n",
    "    color_mode=\"grayscale\",\n",
    ")"
   ]
  },
  {
   "cell_type": "code",
   "execution_count": 117,
   "metadata": {},
   "outputs": [
    {
     "name": "stdout",
     "output_type": "stream",
     "text": [
      "Total images in dataset: 35887\n"
     ]
    }
   ],
   "source": [
    "total_images = traingen.samples + valgen.samples + testgen.samples\n",
    "\n",
    "print(\"Total images in dataset:\", total_images)"
   ]
  },
  {
   "cell_type": "markdown",
   "metadata": {},
   "source": [
    "### Understand"
   ]
  },
  {
   "cell_type": "code",
   "execution_count": 118,
   "metadata": {},
   "outputs": [
    {
     "name": "stdout",
     "output_type": "stream",
     "text": [
      "data batch shape: (32, 48, 48, 1)\n",
      "labels batch shape: (32,)\n"
     ]
    }
   ],
   "source": [
    "data_batch, labels_batch = next(traingen)\n",
    "print(\"data batch shape:\", data_batch.shape)\n",
    "print(\"labels batch shape:\", labels_batch.shape)"
   ]
  },
  {
   "cell_type": "code",
   "execution_count": 119,
   "metadata": {},
   "outputs": [],
   "source": [
    "class_indices = traingen.class_indices\n",
    "class_labels = {v: k for k, v in class_indices.items()}"
   ]
  },
  {
   "cell_type": "code",
   "execution_count": 120,
   "metadata": {},
   "outputs": [
    {
     "data": {
      "text/plain": [
       "{0: 'angry',\n",
       " 1: 'disgust',\n",
       " 2: 'fear',\n",
       " 3: 'happy',\n",
       " 4: 'neutral',\n",
       " 5: 'sad',\n",
       " 6: 'surprise'}"
      ]
     },
     "execution_count": 120,
     "metadata": {},
     "output_type": "execute_result"
    }
   ],
   "source": [
    "class_labels"
   ]
  },
  {
   "cell_type": "code",
   "execution_count": 121,
   "metadata": {},
   "outputs": [
    {
     "data": {
      "image/png": "[encoded data removed]",
      "text/plain": [
       "<Figure size 800x800 with 8 Axes>"
      ]
     },
     "metadata": {},
     "output_type": "display_data"
    }
   ],
   "source": [
    "fig, ax = plt.subplots(2, 4, figsize=(8, 8))\n",
    "\n",
    "axs = ax.ravel()\n",
    "\n",
    "counter = 0\n",
    "for batch, labels in traingen:\n",
    "    for img, label in zip(batch, labels):\n",
    "        class_index = int(label)\n",
    "        class_name = class_labels[class_index]\n",
    "\n",
    "        axs[counter].imshow(img[:, :, 0], cmap=\"gray\")\n",
    "        axs[counter].set_title(class_name)\n",
    "        axs[counter].axis(\"off\")\n",
    "\n",
    "        counter += 1\n",
    "        if counter >= 8:\n",
    "            break\n",
    "\n",
    "    break\n",
    "\n",
    "plt.suptitle(\"Sample Images from Training Set\", y=0.9, fontsize=18)\n",
    "plt.tight_layout()"
   ]
  },
  {
   "cell_type": "markdown",
   "metadata": {},
   "source": [
    "## Preprocess"
   ]
  },
  {
   "cell_type": "markdown",
   "metadata": {},
   "source": [
    "### Missing Data"
   ]
  },
  {
   "cell_type": "code",
   "execution_count": null,
   "metadata": {},
   "outputs": [],
   "source": []
  },
  {
   "cell_type": "markdown",
   "metadata": {},
   "source": [
    "### Data Imbalance"
   ]
  },
  {
   "cell_type": "code",
   "execution_count": null,
   "metadata": {},
   "outputs": [],
   "source": []
  },
  {
   "cell_type": "markdown",
   "metadata": {},
   "source": [
    "### Feature Scaling"
   ]
  },
  {
   "cell_type": "code",
   "execution_count": null,
   "metadata": {},
   "outputs": [],
   "source": []
  }
 ],
 "metadata": {
  "kernelspec": {
   "display_name": "Python 3",
   "language": "python",
   "name": "python3"
  },
  "language_info": {
   "codemirror_mode": {
    "name": "ipython",
    "version": 3
   },
   "file_extension": ".py",
   "mimetype": "text/x-python",
   "name": "python",
   "nbconvert_exporter": "python",
   "pygments_lexer": "ipython3",
   "version": "3.12.8"
  }
 },
 "nbformat": 4,
 "nbformat_minor": 2
}
