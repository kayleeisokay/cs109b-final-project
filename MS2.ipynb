{
 "cells": [
  {
   "cell_type": "markdown",
   "metadata": {},
   "source": [
    "<h1 style=\"text-align: center;\"> Classification of Human Facial Expressions </h1>\n",
    "\n",
    "<div style=\"display: flex; justify-content: space-around;\">\n",
    "\n",
    "<div style=\"width: 30%; text-align: center;\">\n",
    "<strong>Santiago Becerra Cordoba</strong>  \n",
    "<br>\n",
    "sab1475@g.harvard.edu\n",
    "</div>\n",
    "\n",
    "<div style=\"width: 30%; text-align: center;\">\n",
    "<strong>Sarah Kim</strong>  \n",
    "<br>\n",
    "gak604@g.harvard.edu\n",
    "</div>\n"
   ]
  },
  {
   "cell_type": "markdown",
   "metadata": {},
   "source": [
    "<div style=\"display: flex; justify-content: space-around;\">\n",
    "\n",
    "<div style=\"width: 30%; text-align: center;\">\n",
    "<strong>Chloe Seo</strong>  \n",
    "<br>\n",
    "yes593@g.harvard.edu\n",
    "</div>\n",
    "\n",
    "<div style=\"width: 30%; text-align: center;\">\n",
    "<strong>Kaylee Vo</strong>  \n",
    "<br>\n",
    "kav418@g.harvard.edu\n",
    "</div>"
   ]
  },
  {
   "cell_type": "markdown",
   "metadata": {},
   "source": [
    "<div style=\"display: flex; justify-content: space-around;\">\n",
    "\n",
    "<div style=\"width: 30%; text-align: center;\">\n",
    "<strong>Jie Zhao</strong>  \n",
    "<br>\n",
    "jiz273@g.harvard.edu\n",
    "</div>\n",
    "\n",
    "<div style=\"width: 30%; text-align: center;\">\n",
    "<strong></strong>  \n",
    "<br>\n",
    "</div>"
   ]
  },
  {
   "cell_type": "markdown",
   "metadata": {},
   "source": [
    "<h5 style=\"text-align: center;\"> ALM Data Science, Harvard University </h5>"
   ]
  },
  {
   "cell_type": "markdown",
   "metadata": {},
   "source": [
    "<div style=\"text-align: center; width: 80%; margin: 0 auto;\">\n",
    "    <strong>Abstract</strong><br>\n",
    "    PLACEHOLDER\n",
    "</div>"
   ]
  },
  {
   "cell_type": "markdown",
   "metadata": {},
   "source": [
    "## Table of Contents\n",
    "\n",
    "1. [Introduction](#Introduction)\n",
    "    - [a. Access](#Access)\n",
    "    - [b. Load](#Load)\n",
    "    - [c. Understand](#Understand)\n",
    "\n",
    "2. [Preprocess](#Preprocess)\n",
    "    - [a. Missing Data](#Missing-Data)\n",
    "    - [b. Data Imbalance](#Data-Imbalance)\n",
    "    - [c. Feature Scaling](#Feature-Scaling)\n"
   ]
  },
  {
   "cell_type": "markdown",
   "metadata": {},
   "source": [
    "## Data Overview\n",
    "\n",
    "In this project, we aim to classify human facial expressions using a dataset of images. The data we will use is the FER-2013 dataset, which contains 35,887 grayscale images of size 48x48 pixels. Each image is labeled with one of seven emotions: anger, disgust, fear, happiness, sadness, surprise, and neutral. The data itself came with a train and test set. We split the train set into a train and validation set with 20% of the data going to the validation set.\n",
    "\n",
    "The introduction has three sections: access, load, and understand. In the access section, we perform data engineering tasks to pull the data and prep the local directory structure. The data is too large to be kept in a repository, so this step is necessary for development. In the load section, we load the data into memory with Keras image generators. Finally in the Understand section, we sample a subset of images and present simple summaries and visualizations to better understand the data."
   ]
  },
  {
   "cell_type": "markdown",
   "metadata": {},
   "source": [
    "### Access"
   ]
  },
  {
   "cell_type": "code",
   "execution_count": 5,
   "metadata": {},
   "outputs": [],
   "source": [
    "import os\n",
    "import pathlib\n",
    "import time\n",
    "import zipfile\n",
    "import random\n",
    "import imageio\n",
    "from matplotlib import cm\n",
    "import matplotlib.pyplot as plt\n",
    "import seaborn as sns\n",
    "import numpy as np\n",
    "import pickle\n",
    "import time\n",
    "import tarfile\n",
    "import gdown\n",
    "from PIL import Image\n",
    "import requests\n",
    "import scipy.ndimage as ndimage\n",
    "import tensorflow as tf\n",
    "import tensorflow_datasets as tfds\n",
    "from tensorflow.keras.datasets import cifar10\n",
    "from tensorflow.keras.models import Sequential, Model\n",
    "from tensorflow.keras import layers\n",
    "from tensorflow.keras.layers import Activation, BatchNormalization\n",
    "from tensorflow.keras.layers import Conv2D, Dense, Dropout, GaussianNoise\n",
    "from tensorflow.keras.layers import Flatten, Input, MaxPooling2D, GlobalAveragePooling2D\n",
    "from tensorflow.keras.optimizers import Adam, SGD\n",
    "from tensorflow.keras.regularizers import L1, L2\n",
    "from tensorflow.keras.callbacks import EarlyStopping, LambdaCallback, ModelCheckpoint\n",
    "from tensorflow.keras.utils import to_categorical\n",
    "from tensorflow.keras.preprocessing.image import ImageDataGenerator\n",
    "import tqdm\n",
    "import shutil\n",
    "import platform\n",
    "import kagglehub\n",
    "\n",
    "from sklearn.preprocessing import StandardScaler  # Import"
   ]
  },
  {
   "cell_type": "code",
   "execution_count": 6,
   "metadata": {},
   "outputs": [
    {
     "name": "stdout",
     "output_type": "stream",
     "text": [
      "Downloading from https://www.kaggle.com/api/v1/datasets/download/msambare/fer2013?dataset_version_number=1...\n"
     ]
    },
    {
     "name": "stderr",
     "output_type": "stream",
     "text": [
      "100%|██████████| 60.3M/60.3M [00:01<00:00, 34.4MB/s]"
     ]
    },
    {
     "name": "stdout",
     "output_type": "stream",
     "text": [
      "Extracting files...\n"
     ]
    },
    {
     "name": "stderr",
     "output_type": "stream",
     "text": [
      "\n"
     ]
    },
    {
     "name": "stdout",
     "output_type": "stream",
     "text": [
      "Path to dataset files: /shared/home/yes593/.cache/kagglehub/datasets/msambare/fer2013/versions/1\n"
     ]
    }
   ],
   "source": [
    "# Download latest version\n",
    "path = kagglehub.dataset_download(\"msambare/fer2013\")\n",
    "print(\"Path to dataset files:\", path)"
   ]
  },
  {
   "cell_type": "code",
   "execution_count": 7,
   "metadata": {},
   "outputs": [],
   "source": [
    "DATA_DIR = os.getcwd() + \"/data\"\n",
    "\n",
    "# For mac users\n",
    "if platform.system() == \"Darwin\":\n",
    "    os.system('find . -name \".DS_Store\" -delete')\n",
    "\n",
    "if not os.path.exists(DATA_DIR):\n",
    "    os.makedirs(DATA_DIR)"
   ]
  },
  {
   "cell_type": "code",
   "execution_count": 8,
   "metadata": {},
   "outputs": [
    {
     "name": "stdout",
     "output_type": "stream",
     "text": [
      "Copied directory: /shared/home/yes593/.cache/kagglehub/datasets/msambare/fer2013/versions/1/test\n",
      "Copied directory: /shared/home/yes593/.cache/kagglehub/datasets/msambare/fer2013/versions/1/train\n"
     ]
    }
   ],
   "source": [
    "for item in os.listdir(path):\n",
    "    item_path = os.path.join(path, item)\n",
    "\n",
    "    if os.path.isfile(item_path):\n",
    "        shutil.copy(item_path, DATA_DIR)\n",
    "        print(f\"Copied file: {item_path}\")\n",
    "    elif os.path.isdir(item_path):\n",
    "        shutil.copytree(item_path, os.path.join(DATA_DIR, item))\n",
    "        print(f\"Copied directory: {item_path}\")"
   ]
  },
  {
   "cell_type": "markdown",
   "metadata": {},
   "source": [
    "### Load"
   ]
  },
  {
   "cell_type": "markdown",
   "metadata": {},
   "source": [
    "The data was already given in a directory structure. We leverage this in order loading code. After a 20% validaiton split, we have 22968 images in the training set, 5741 images in the validation set, and 7178 images in the test set. The total number of images is 35887. The images are scaled by dividing by 255. Note this is arbitrary for now and may be adjusted in the future."
   ]
  },
  {
   "cell_type": "code",
   "execution_count": 9,
   "metadata": {},
   "outputs": [],
   "source": [
    "train_dir = DATA_DIR + \"/train\"\n",
    "val_dir = DATA_DIR + \"/validation\"\n",
    "val_split = 0.2\n",
    "\n",
    "if not os.path.exists(val_dir):\n",
    "    os.makedirs(val_dir, exist_ok=True)\n",
    "    for class_name in os.listdir(train_dir):\n",
    "        class_path = os.path.join(train_dir, class_name)\n",
    "        val_class_path = os.path.join(val_dir, class_name)\n",
    "        os.makedirs(val_class_path, exist_ok=True)\n",
    "\n",
    "        # List all images in the class directory\n",
    "        images = os.listdir(class_path)\n",
    "        random.shuffle(images)\n",
    "\n",
    "        # Move a portion of images to validation\n",
    "        num_val = int(len(images) * val_split)\n",
    "        for img in images[:num_val]:\n",
    "            shutil.move(\n",
    "                os.path.join(class_path, img), os.path.join(val_class_path, img)\n",
    "            )"
   ]
  },
  {
   "cell_type": "code",
   "execution_count": 10,
   "metadata": {},
   "outputs": [],
   "source": [
    "datagen = ImageDataGenerator(rescale=1.0 / 255)"
   ]
  },
  {
   "cell_type": "code",
   "execution_count": 11,
   "metadata": {},
   "outputs": [
    {
     "name": "stdout",
     "output_type": "stream",
     "text": [
      "Found 22968 images belonging to 7 classes.\n",
      "Found 5741 images belonging to 7 classes.\n",
      "Found 7178 images belonging to 7 classes.\n"
     ]
    }
   ],
   "source": [
    "batch_size = 32\n",
    "target_size = (48, 48)  # generator can resize all images if we want\n",
    "\n",
    "traingen = datagen.flow_from_directory(\n",
    "    DATA_DIR + \"/train\",  # this is the target directory\n",
    "    target_size=target_size,  # all images will be resized to 150x150\n",
    "    batch_size=batch_size,\n",
    "    class_mode=\"sparse\",  # since we use categorical_crossentropy loss, we need binary labels\n",
    "    color_mode=\"grayscale\",\n",
    ")\n",
    "valgen = datagen.flow_from_directory(\n",
    "    DATA_DIR + \"/validation\",\n",
    "    target_size=target_size,\n",
    "    batch_size=batch_size,\n",
    "    class_mode=\"sparse\",\n",
    "    color_mode=\"grayscale\",\n",
    ")\n",
    "\n",
    "testgen = datagen.flow_from_directory(\n",
    "    DATA_DIR + \"/test\",\n",
    "    target_size=target_size,\n",
    "    batch_size=batch_size,\n",
    "    shuffle=False,\n",
    "    class_mode=\"sparse\",\n",
    "    color_mode=\"grayscale\",\n",
    ")"
   ]
  },
  {
   "cell_type": "code",
   "execution_count": 12,
   "metadata": {},
   "outputs": [
    {
     "name": "stdout",
     "output_type": "stream",
     "text": [
      "Total images in dataset: 35887\n"
     ]
    }
   ],
   "source": [
    "total_images = traingen.samples + valgen.samples + testgen.samples\n",
    "\n",
    "print(\"Total images in dataset:\", total_images)"
   ]
  },
  {
   "cell_type": "markdown",
   "metadata": {},
   "source": [
    "### Understand"
   ]
  },
  {
   "cell_type": "markdown",
   "metadata": {},
   "source": [
    "The batch size is set to 32 but this is arbitrary and is subject to change. The dimensions of the images are 48x48 with a single channel (e.g. grayscale images). The number of classes is 7, corresponding to the 7 emotions. The mapping from integer to emotion is shown in a cell below. We also present a set of 8 images to preview the data. The images match well with their labels. One aspect to note is the existence of watermarks in some of the images. This is a potential source of noise in the data that will need to be addressed in the preprocessing step."
   ]
  },
  {
   "cell_type": "code",
   "execution_count": 13,
   "metadata": {},
   "outputs": [
    {
     "name": "stdout",
     "output_type": "stream",
     "text": [
      "data batch shape: (32, 48, 48, 1)\n",
      "labels batch shape: (32,)\n"
     ]
    }
   ],
   "source": [
    "data_batch, labels_batch = next(traingen)\n",
    "print(\"data batch shape:\", data_batch.shape)\n",
    "print(\"labels batch shape:\", labels_batch.shape)"
   ]
  },
  {
   "cell_type": "code",
   "execution_count": 14,
   "metadata": {},
   "outputs": [],
   "source": [
    "class_indices = traingen.class_indices\n",
    "class_labels = {v: k for k, v in class_indices.items()}"
   ]
  },
  {
   "cell_type": "code",
   "execution_count": 15,
   "metadata": {},
   "outputs": [
    {
     "data": {
      "text/plain": [
       "{0: 'angry',\n",
       " 1: 'disgust',\n",
       " 2: 'fear',\n",
       " 3: 'happy',\n",
       " 4: 'neutral',\n",
       " 5: 'sad',\n",
       " 6: 'surprise'}"
      ]
     },
     "execution_count": 15,
     "metadata": {},
     "output_type": "execute_result"
    }
   ],
   "source": [
    "class_labels"
   ]
  },
  {
   "cell_type": "code",
   "execution_count": 16,
   "metadata": {},
   "outputs": [
    {
     "data": {
      "image/png": "[encoded data removed]",
      "text/plain": [
       "<Figure size 800x800 with 8 Axes>"
      ]
     },
     "metadata": {},
     "output_type": "display_data"
    }
   ],
   "source": [
    "fig, ax = plt.subplots(2, 4, figsize=(8, 8))\n",
    "\n",
    "axs = ax.ravel()\n",
    "\n",
    "counter = 0\n",
    "for batch, labels in traingen:\n",
    "    for img, label in zip(batch, labels):\n",
    "        class_index = int(label)\n",
    "        class_name = class_labels[class_index]\n",
    "\n",
    "        axs[counter].imshow(img[:, :, 0], cmap=\"gray\")\n",
    "        axs[counter].set_title(class_name)\n",
    "        axs[counter].axis(\"off\")\n",
    "\n",
    "        counter += 1\n",
    "        if counter >= 8:\n",
    "            break\n",
    "\n",
    "    break\n",
    "\n",
    "plt.suptitle(\"Sample Images from Training Set\", y=0.9, fontsize=18)\n",
    "plt.tight_layout()"
   ]
  },
  {
   "cell_type": "markdown",
   "metadata": {},
   "source": [
    "## Data Preprocessing"
   ]
  },
  {
   "cell_type": "markdown",
   "metadata": {},
   "source": [
    "### Missing Data"
   ]
  },
  {
   "cell_type": "code",
   "execution_count": 20,
   "metadata": {},
   "outputs": [
    {
     "name": "stdout",
     "output_type": "stream",
     "text": [
      "--Training Set--\n",
      "Missing pixel values: 0\n",
      "Total pixels:         52918272\n",
      "Percentage missing:   0.00%\n",
      "\n",
      "--Test Set--\n",
      "Missing pixel values: 0\n",
      "Total pixels:         16538112\n",
      "Percentage missing:   0.00%\n",
      "\n",
      "Observation: There are no missing pixel values in either training or test sets. \n"
     ]
    }
   ],
   "source": [
    "# TODO\n",
    "# - Code to check there are no missing pixel values\n",
    "# - A short paragraph explaining observations, even if there are no missing values\n",
    "\n",
    "traingen.reset()\n",
    "testgen.reset()\n",
    "\n",
    "missing_count_train = 0\n",
    "total_pixels_train  = 0\n",
    "missing_count_test  = 0\n",
    "total_pixels_test   = 0\n",
    "\n",
    "for i in range(len(traingen)):\n",
    "    batch_images, batch_labels = next(traingen)\n",
    "    missing_count_train += np.isnan(batch_images).sum()\n",
    "    total_pixels_train  += batch_images.size\n",
    "\n",
    "for i in range(len(testgen)):\n",
    "    batch_images, batch_labels = next(testgen)\n",
    "    missing_count_test += np.isnan(batch_images).sum()\n",
    "    total_pixels_test  += batch_images.size\n",
    "\n",
    "print(\"--Training Set--\")\n",
    "print(f\"Missing pixel values: {missing_count_train}\")\n",
    "print(f\"Total pixels:         {total_pixels_train}\")\n",
    "if total_pixels_train > 0:\n",
    "    pct_train = (missing_count_train / total_pixels_train) * 100\n",
    "    print(f\"Percentage missing:   {pct_train:.2f}%\")\n",
    "else:\n",
    "    print(\"No pixels found\")\n",
    "\n",
    "print(\"\\n--Test Set--\")\n",
    "print(f\"Missing pixel values: {missing_count_test}\")\n",
    "print(f\"Total pixels:         {total_pixels_test}\")\n",
    "if total_pixels_test > 0:\n",
    "    pct_test = (missing_count_test / total_pixels_test) * 100\n",
    "    print(f\"Percentage missing:   {pct_test:.2f}%\")\n",
    "else:\n",
    "    print(\"No pixels found\")\n",
    "\n",
    "if missing_count_train == 0 and missing_count_test == 0:\n",
    "    print(\"\\nObservation: There are no missing pixel values in either training or test sets. \")\n",
    "else:\n",
    "    print(\"\\nObservation: Some missing pixel values were found.\")"
   ]
  },
  {
   "cell_type": "markdown",
   "metadata": {},
   "source": [
    "Checked through the training (traingen) and test (testgen) datasets for any missing pixel values by looping through every image batch and counting NaNs. As a result, there were no missing pixels found. "
   ]
  },
  {
   "cell_type": "markdown",
   "metadata": {},
   "source": [
    "### Data Imbalance"
   ]
  },
  {
   "cell_type": "markdown",
   "metadata": {},
   "source": [
    "The training set shows clear class imbalance:\n",
    "\n",
    "- **Underrepresented**:\n",
    "  - *Disgust* (fewer than 1,000 images)\n",
    "  - *Surprise*\n",
    "- **Overrepresented**:\n",
    "  - *Happy* (nearly 6,000 images)\n",
    "\n",
    "This imbalance can bias the model toward majority classes and reduce accuracy on minority ones like *disgust* and *surprise*. To improve robustness and generalization, we applied data augmentation (e.g., rotation, zoom, flipping) to the entire training set. While this doesn’t rebalance class frequency, it helps prevent overfitting and exposes the model to more varied inputs.\n",
    "\n",
    "If this approach proves insufficient, we’ll explore more targeted strategies—such as oversampling underrepresented classes or applying heavier augmentation selectively.\n",
    "\n",
    "Additionally, we computed `class_weight` values to be used during model training. These weights adjust the loss function to penalize misclassifications of rare classes more heavily. For example, *disgust* has a weight of **9.4**, while *happy* has a weight of **0.57**. This encourages the model to pay more attention to minority classes during learning."
   ]
  },
  {
   "cell_type": "code",
   "execution_count": null,
   "metadata": {},
   "outputs": [],
   "source": [
    "# TODO\n",
    "# - From the proposal there is class imbalance, so we need to address it - DONE\n",
    "# - Show visualization of distribution of classes in the dataset (there are 7 classes) - DONE\n",
    "# - Need to implement one of the following: class weights, data augmentation, or some other idea - DONE\n",
    "# - Few sentences explaining approach and results"
   ]
  },
  {
   "cell_type": "code",
   "execution_count": 26,
   "metadata": {},
   "outputs": [
    {
     "data": {
      "image/png": "[encoded data removed]",
      "text/plain": [
       "<Figure size 640x480 with 1 Axes>"
      ]
     },
     "metadata": {},
     "output_type": "display_data"
    }
   ],
   "source": [
    "# Check if there is class imbalance\n",
    "# Get class labels from traingen (not just a batch but all)\n",
    "labels = traingen.classes\n",
    "class_indices = traingen.class_indices\n",
    "class_labels = {v: k for k, v in class_indices.items()}\n",
    "\n",
    "label_names = [class_labels[label] for label in labels]\n",
    "sns.countplot(x=label_names, order=sorted(set(label_names)))\n",
    "plt.title(\"Class Distribution in Training Set\")\n",
    "plt.xlabel(\"Emotion\")\n",
    "plt.ylabel(\"Count\")\n",
    "plt.xticks(rotation=45)\n",
    "plt.show()"
   ]
  },
  {
   "cell_type": "code",
   "execution_count": 23,
   "metadata": {},
   "outputs": [],
   "source": [
    "# Add added data augmentation to train dataset to improve robustness\n",
    "train_datagen = ImageDataGenerator(\n",
    "    rescale=1.0 / 255,\n",
    "    rotation_range=30,\n",
    "    width_shift_range=0.1,\n",
    "    height_shift_range=0.1,\n",
    "    shear_range=0.1,\n",
    "    zoom_range=0.2,\n",
    "    horizontal_flip=True,\n",
    "    fill_mode=\"nearest\"\n",
    ")\n",
    "\n",
    "# keep the rescale only for validation & test data\n",
    "val_test_datagen = ImageDataGenerator(rescale=1.0 / 255)"
   ]
  },
  {
   "cell_type": "code",
   "execution_count": 24,
   "metadata": {},
   "outputs": [
    {
     "name": "stdout",
     "output_type": "stream",
     "text": [
      "Found 22968 images belonging to 7 classes.\n",
      "Found 5741 images belonging to 7 classes.\n",
      "Found 7178 images belonging to 7 classes.\n"
     ]
    }
   ],
   "source": [
    "# Update the generator\n",
    "traingen = train_datagen.flow_from_directory(\n",
    "    DATA_DIR + \"/train\",\n",
    "    target_size=target_size,\n",
    "    batch_size=batch_size,\n",
    "    class_mode=\"sparse\",\n",
    "    color_mode=\"grayscale\",\n",
    ")\n",
    "\n",
    "valgen = val_test_datagen.flow_from_directory(\n",
    "    DATA_DIR + \"/validation\",\n",
    "    target_size=target_size,\n",
    "    batch_size=batch_size,\n",
    "    class_mode=\"sparse\",\n",
    "    color_mode=\"grayscale\",\n",
    ")\n",
    "\n",
    "testgen = val_test_datagen.flow_from_directory(\n",
    "    DATA_DIR + \"/test\",\n",
    "    target_size=target_size,\n",
    "    batch_size=batch_size,\n",
    "    shuffle=False,\n",
    "    class_mode=\"sparse\",\n",
    "    color_mode=\"grayscale\",\n",
    ")"
   ]
  },
  {
   "cell_type": "code",
   "execution_count": 25,
   "metadata": {},
   "outputs": [
    {
     "name": "stdout",
     "output_type": "stream",
     "text": [
      "Class weights: {0: 1.0266404434114071, 1: 9.401555464592715, 2: 1.0009587727708533, 3: 0.5684585684585685, 4: 0.826068191627104, 5: 0.8491570541259982, 6: 1.2933160650937552}\n"
     ]
    }
   ],
   "source": [
    "# Add class weight \n",
    "from sklearn.utils.class_weight import compute_class_weight # we could move this up \n",
    "\n",
    "labels = traingen.classes\n",
    "class_weights = compute_class_weight(\n",
    "    class_weight=\"balanced\",\n",
    "    classes=np.unique(labels),\n",
    "    y=labels\n",
    ")\n",
    "class_weights_dict = dict(enumerate(class_weights))\n",
    "\n",
    "print(\"Class weights:\", class_weights_dict) # we could use this class_weight when we fit the model"
   ]
  },
  {
   "cell_type": "markdown",
   "metadata": {},
   "source": [
    "### Denoising"
   ]
  },
  {
   "cell_type": "code",
   "execution_count": null,
   "metadata": {},
   "outputs": [],
   "source": [
    "# TODO\n",
    "# - Probably the most difficult\n",
    "# - We need to at least have one strategy implemented that can reduce the visual impact of the 'shutterstock' watermarks\n",
    "# - Code to show examples of watermark\n",
    "# - Apply gaussian blur, non-local means?\n",
    "# - Show that the issue is resolved\n",
    "# - Few sentences explaining approach and results"
   ]
  },
  {
   "cell_type": "markdown",
   "metadata": {},
   "source": [
    "### Feature Scaling"
   ]
  },
  {
   "cell_type": "code",
   "execution_count": null,
   "metadata": {},
   "outputs": [],
   "source": [
    "# TODO\n",
    "# - Dividing by 255 is standard maybe a quick experiment with standard scaler would be helpful\n",
    "# - This can be done in conjunction with the baseline model"
   ]
  },
  {
   "cell_type": "markdown",
   "metadata": {},
   "source": [
    "### Summary\n",
    "\n",
    "- one paragraph summary of the preprocessing steps.\n",
    "- a few sentences on future work"
   ]
  },
  {
   "cell_type": "markdown",
   "metadata": {},
   "source": [
    "## Baseline Model"
   ]
  },
  {
   "cell_type": "code",
   "execution_count": null,
   "metadata": {},
   "outputs": [],
   "source": [
    "# As a sanity check\n",
    "# Traceplots: one using division by 255 and the other using standard scaler\n",
    "# - Few sentences explaining approach and results"
   ]
  }
 ],
 "metadata": {
  "kernelspec": {
   "display_name": "Python 3 (ipykernel)",
   "language": "python",
   "name": "python3"
  },
  "language_info": {
   "codemirror_mode": {
    "name": "ipython",
    "version": 3
   },
   "file_extension": ".py",
   "mimetype": "text/x-python",
   "name": "python",
   "nbconvert_exporter": "python",
   "pygments_lexer": "ipython3",
   "version": "3.11.7"
  }
 },
 "nbformat": 4,
 "nbformat_minor": 4
}
